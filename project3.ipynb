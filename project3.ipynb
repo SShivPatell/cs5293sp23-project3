{
 "cells": [
  {
   "cell_type": "markdown",
   "id": "2342813f",
   "metadata": {},
   "source": [
    "## Student Name: Shiv Patel\n",
    "## Student Email: shiv.s.patel@ou.edu"
   ]
  },
  {
   "cell_type": "markdown",
   "id": "84e6ab65",
   "metadata": {},
   "source": [
    "# Project 3: The Smart City Slicker\n",
    "\n",
    "Imagine you are a stakeholder in a rising Smart City and want to know more about themes and concepts about existing smart cities. You also want to know where does your smart city place among others. In this project, you will perform \n",
    "exploratory data analysis, often shortened to EDA, to examine a data from the [2015 Smart City Challenge](https://www.transportation.gov/smartcity) to find facts about the data and communicating those facts through text analysis and visualizations.\n",
    "\n",
    "In order to explore the data and visualize it, some modifications might need to be made to the data along the way. This is often referred to as data preprocessing or cleaning.\n",
    "Though data preprocessing is technically different from EDA, EDA often exposes problems with the data that need to be fixed in order to continue exploring.\n",
    "Because of this tight coupling, you have to clean the data as necessary to help understand the data.\n",
    "\n",
    "In this project, you will apply your knowledge about data cleaning, machine learning, visualizations, and databases to explore smart city applications.\n",
    "\n",
    "**Part 1** of the notebook will explore and clean the data. \\\n",
    "**Part 2** will take the results of the preprocessed data to create models and visualizations.\n",
    "\n",
    "Empty cells are code cells. \n",
    "Cells denoted with [Your Answer Here] are markdown cells.\n",
    "Edit and add as many cells as needed."
   ]
  },
  {
   "cell_type": "markdown",
   "id": "6e8dcba1",
   "metadata": {},
   "source": [
    "Output file for this notebook is shown as a table for display purposes. Note: The city name can be Norman, OK or OK Norman.\n",
    "\n",
    "| city | raw text | clean text | clusterid | topicids | summary | keywords|\n",
    "| -- | -- | -- | -- | -- | -- | -- |\n",
    "|Norman, OK | Test, test , and testing. | test test test | 0 | T1, T2| test | test |"
   ]
  },
  {
   "cell_type": "markdown",
   "id": "89fd47ce",
   "metadata": {},
   "source": [
    "## Introduction\n",
    "The Dataset: 2015 Smart City Challenge Applicants (non-finalist).\n",
    "In this project you will use the applicant's PDFs as a dataset.\n",
    "The dataset is from the U.S Department of Transportation Smart City Challenge.\n",
    "\n",
    "On the website page for the data, you can find some basic information about the challenge. This is an interesting dataset. Think of the questions that you might be able to answer! A few could be:\n",
    "\n",
    "1. Can I identify frequently occurring words that could be removed during data preprocessing?\n",
    "2. Where are the applicants from?\n",
    "3. Are there multiple entries for the same city in different applicantions?\n",
    "4. What are the major themes and concepts from the smart city applicants?\n",
    "\n",
    "Let's load the data!"
   ]
  },
  {
   "cell_type": "markdown",
   "id": "7aace966",
   "metadata": {},
   "source": [
    "## Loading and Handling files\n",
    "\n",
    "Load data from `smartcity/`. \n",
    "\n",
    "To extract the data from the pdf files, use the [pypdf.pdf.PdfFileReader](https://pypdf.readthedocs.io/en/stable/index.html) class.\n",
    "It will allow you to extract pages and pdf files and add them to a data structure (dataframe, list, dictionary, etc).\n",
    "To install the module, use the command `pipenv install pypdf`.\n",
    "You only need to handle PDF files, handling docx is not necessary."
   ]
  },
  {
   "cell_type": "code",
   "execution_count": 3,
   "id": "151c5a06-9d74-41b9-aa8e-90be00607b2e",
   "metadata": {
    "tags": []
   },
   "outputs": [],
   "source": [
    "from pypdf import PdfReader\n",
    "import os\n",
    "folderPath = 'smartcity/'\n",
    "\n",
    "pdf_files = [f for f in os.listdir(folderPath) if f.endswith('.pdf')]"
   ]
  },
  {
   "cell_type": "markdown",
   "id": "d8ed6e32",
   "metadata": {},
   "source": [
    "Create a data structure to add the city name and raw text. You can choose to split the city name from the file."
   ]
  },
  {
   "cell_type": "code",
   "execution_count": 4,
   "id": "2e4905f1",
   "metadata": {
    "tags": []
   },
   "outputs": [],
   "source": [
    "import pandas as pd\n",
    "dataFrame = pd.DataFrame(columns=['filename', 'text'])\n",
    "i = 0\n",
    "for name in pdf_files:\n",
    "    x = name.endswith(\".pdf\")\n",
    "    if x == True:\n",
    "        filePath = 'smartcity/' + name\n",
    "        reader = PdfReader(filePath)\n",
    "        extracted_text = []\n",
    "\n",
    "        # Iterate through each page in the PDF file\n",
    "        for page_num in range(len(reader.pages)):\n",
    "\n",
    "            page = reader.pages[page_num]\n",
    "            # Extract the text from the page\n",
    "            text = page.extract_text()\n",
    "\n",
    "            # Add the extracted text to the list\n",
    "            extracted_text.append(text)\n",
    "        name = name[:-4]\n",
    "        data_dict = {'filename': name, 'text': extracted_text}\n",
    "    dataFrame = pd.concat([dataFrame, pd.DataFrame(data_dict)], ignore_index=True)"
   ]
  },
  {
   "cell_type": "code",
   "execution_count": 6,
   "id": "02a95983-cd2d-4d1f-992e-1965ec417e42",
   "metadata": {
    "tags": []
   },
   "outputs": [
    {
     "name": "stdout",
     "output_type": "stream",
     "text": [
      "           filename                                               text\n",
      "0     CA Long Beach  Grant Proposal \\nUSDOT SMART CITIES\\nFebruary ...\n",
      "1     CA Long Beach  CONTENTS\\nPART I- VISION NARRATIVE\\nLetters of...\n",
      "2     CA Long Beach  1 THE SMART CITY CHALLENGE | CITY OF LONG BEAC...\n",
      "3     CA Long Beach  2 CITY OF LONG BEACH | THE SMART CITY CHALLENG...\n",
      "4     CA Long Beach  3 THE SMART CITY CHALLENGE | CITY OF LONG BEAC...\n",
      "...             ...                                                ...\n",
      "2061   NY Rochester  Data governance\\n »Establish a Data Hub for co...\n",
      "2062   NY Rochester  consistent set of standards for this challenge...\n",
      "2063   NY Rochester  EVIDENCE OF \\nCAPACITY\\nThe City of Rochester ...\n",
      "2064   NY Rochester  ExecuƟ  ve Commitment:  The City of Rochester ...\n",
      "2065   NY Rochester  ROCHESTER CYCLING ALLIANCE\\nIn partnership wit...\n",
      "\n",
      "[2066 rows x 2 columns]\n"
     ]
    }
   ],
   "source": [
    "print(dataFrame)"
   ]
  },
  {
   "cell_type": "code",
   "execution_count": 7,
   "id": "583fa9a6-8e59-4a3d-91e0-a54c57f839b3",
   "metadata": {
    "tags": []
   },
   "outputs": [
    {
     "name": "stdout",
     "output_type": "stream",
     "text": [
      "             filename                                               text\n",
      "0        AK Anchorage    CONTENTS \\n1 VISION ...........................\n",
      "1       AL Birmingham  aBirmingham\\nRising\\nBirmingham Rising! Meetin...\n",
      "2       AL Montgomery   \\n \\n U.S. Department of Transportation - “BE...\n",
      "3    AZ Scottsdale AZ    \\n  \\n \\n \\n \\nFederal Agency Name:   U.S. D...\n",
      "4           AZ Tucson  Tucson Smart City Demonstration Proposal\\nPart...\n",
      "..                ...                                                ...\n",
      "64        VA Richmond    \\n \\n \\n   \\n \\n \\n  \\n      Contact Informa...\n",
      "65  VA Virginia Beach    \\n 1.  Project Vision  ........................\n",
      "66         WA Seattle  Beyond Traffic: USDOT Smart City Challenge\\nAp...\n",
      "67         WA Spokane  USDOT Smart City Challenge -  Spokane  \\nPage ...\n",
      "68         WI Madison  Building a Smart Madison  \\nfor Shared Prosper...\n",
      "\n",
      "[69 rows x 2 columns]\n"
     ]
    }
   ],
   "source": [
    "# group the rows by filename and combine the text column\n",
    "df_combined = dataFrame.groupby(\"filename\")[\"text\"].apply(lambda x: \" \".join(x)).reset_index()\n",
    "print(df_combined)"
   ]
  },
  {
   "cell_type": "code",
   "execution_count": null,
   "id": "906148e9-58d2-4c4e-9031-008008f4dae4",
   "metadata": {},
   "outputs": [],
   "source": []
  },
  {
   "cell_type": "markdown",
   "id": "5019a8c3",
   "metadata": {
    "tags": []
   },
   "source": [
    "## Cleaning Up PDFs\n",
    "\n",
    "One of the more frustrating aspects of PDF is loading the data into a readable format. The first order of business will be to preprocess the data. To start, you can use code provided by Text Analytics with Python, [Chapter 3](https://github.com/dipanjanS/text-analytics-with-python/blob/master/New-Second-Edition/Ch03%20-%20Processing%20and%20Understanding%20Text/Ch03a%20-%20Text%20Wrangling.ipynb): [contractions.py](https://github.com/dipanjanS/text-analytics-with-python/blob/master/New-Second-Edition/Ch05%20-%20Text%20Classification/contractions.py) (Pages 136-137), and [text_normalizer.py](https://github.com/dipanjanS/text-analytics-with-python/blob/master/New-Second-Edition/Ch05%20-%20Text%20Classification/text_normalizer.py) (Pages 155-156). Feel free to download the scripts or add the code directly to the notebook (please note this code is performed on dataframes).\n",
    "\n",
    "In addition to the data cleaning provided by the textbook, you will need to:\n",
    "1. Consider removing terms that may effect clustering and topic modeling. Words to consider are cities, states, common words (smart, city, page, etc.). Keep in mind n-gram combinations are important; this can also be revisited later depending on your model's performance.\n",
    "2. Check the data to remove applicants that text was not processed correctly. Do not remove more than 15 cities from the data.\n"
   ]
  },
  {
   "cell_type": "code",
   "execution_count": 8,
   "id": "8142e498",
   "metadata": {},
   "outputs": [],
   "source": [
    "import nltk\n",
    "import spacy\n",
    "import unicodedata\n",
    "import re\n",
    "from nltk.corpus import wordnet\n",
    "import collections\n",
    "#from textblob import Word\n",
    "from nltk.tokenize.toktok import ToktokTokenizer\n",
    "from bs4 import BeautifulSoup\n",
    "\n",
    "tokenizer = ToktokTokenizer()\n",
    "stopword_list = nltk.corpus.stopwords.words('english')\n",
    "nlp = spacy.load('en_core_web_sm', disable=['parser', 'ner'])\n",
    "# nlp_vec = spacy.load('en_vectors_web_lg', parse=True, tag=True, entity=True)\n",
    "\n",
    "CONTRACTION_MAP = {\n",
    "\"ain't\": \"is not\",\n",
    "\"aren't\": \"are not\",\n",
    "\"can't\": \"cannot\",\n",
    "\"can't've\": \"cannot have\",\n",
    "\"'cause\": \"because\",\n",
    "\"could've\": \"could have\",\n",
    "\"couldn't\": \"could not\",\n",
    "\"couldn't've\": \"could not have\",\n",
    "\"didn't\": \"did not\",\n",
    "\"doesn't\": \"does not\",\n",
    "\"don't\": \"do not\",\n",
    "\"hadn't\": \"had not\",\n",
    "\"hadn't've\": \"had not have\",\n",
    "\"hasn't\": \"has not\",\n",
    "\"haven't\": \"have not\",\n",
    "\"he'd\": \"he would\",\n",
    "\"he'd've\": \"he would have\",\n",
    "\"he'll\": \"he will\",\n",
    "\"he'll've\": \"he he will have\",\n",
    "\"he's\": \"he is\",\n",
    "\"how'd\": \"how did\",\n",
    "\"how'd'y\": \"how do you\",\n",
    "\"how'll\": \"how will\",\n",
    "\"how's\": \"how is\",\n",
    "\"I'd\": \"I would\",\n",
    "\"I'd've\": \"I would have\",\n",
    "\"I'll\": \"I will\",\n",
    "\"I'll've\": \"I will have\",\n",
    "\"I'm\": \"I am\",\n",
    "\"I've\": \"I have\",\n",
    "\"i'd\": \"i would\",\n",
    "\"i'd've\": \"i would have\",\n",
    "\"i'll\": \"i will\",\n",
    "\"i'll've\": \"i will have\",\n",
    "\"i'm\": \"i am\",\n",
    "\"i've\": \"i have\",\n",
    "\"isn't\": \"is not\",\n",
    "\"it'd\": \"it would\",\n",
    "\"it'd've\": \"it would have\",\n",
    "\"it'll\": \"it will\",\n",
    "\"it'll've\": \"it will have\",\n",
    "\"it's\": \"it is\",\n",
    "\"let's\": \"let us\",\n",
    "\"ma'am\": \"madam\",\n",
    "\"mayn't\": \"may not\",\n",
    "\"might've\": \"might have\",\n",
    "\"mightn't\": \"might not\",\n",
    "\"mightn't've\": \"might not have\",\n",
    "\"must've\": \"must have\",\n",
    "\"mustn't\": \"must not\",\n",
    "\"mustn't've\": \"must not have\",\n",
    "\"needn't\": \"need not\",\n",
    "\"needn't've\": \"need not have\",\n",
    "\"o'clock\": \"of the clock\",\n",
    "\"oughtn't\": \"ought not\",\n",
    "\"oughtn't've\": \"ought not have\",\n",
    "\"shan't\": \"shall not\",\n",
    "\"sha'n't\": \"shall not\",\n",
    "\"shan't've\": \"shall not have\",\n",
    "\"she'd\": \"she would\",\n",
    "\"she'd've\": \"she would have\",\n",
    "\"she'll\": \"she will\",\n",
    "\"she'll've\": \"she will have\",\n",
    "\"she's\": \"she is\",\n",
    "\"should've\": \"should have\",\n",
    "\"shouldn't\": \"should not\",\n",
    "\"shouldn't've\": \"should not have\",\n",
    "\"so've\": \"so have\",\n",
    "\"so's\": \"so as\",\n",
    "\"that'd\": \"that would\",\n",
    "\"that'd've\": \"that would have\",\n",
    "\"that's\": \"that is\",\n",
    "\"there'd\": \"there would\",\n",
    "\"there'd've\": \"there would have\",\n",
    "\"there's\": \"there is\",\n",
    "\"they'd\": \"they would\",\n",
    "\"they'd've\": \"they would have\",\n",
    "\"they'll\": \"they will\",\n",
    "\"they'll've\": \"they will have\",\n",
    "\"they're\": \"they are\",\n",
    "\"they've\": \"they have\",\n",
    "\"to've\": \"to have\",\n",
    "\"wasn't\": \"was not\",\n",
    "\"we'd\": \"we would\",\n",
    "\"we'd've\": \"we would have\",\n",
    "\"we'll\": \"we will\",\n",
    "\"we'll've\": \"we will have\",\n",
    "\"we're\": \"we are\",\n",
    "\"we've\": \"we have\",\n",
    "\"weren't\": \"were not\",\n",
    "\"what'll\": \"what will\",\n",
    "\"what'll've\": \"what will have\",\n",
    "\"what're\": \"what are\",\n",
    "\"what's\": \"what is\",\n",
    "\"what've\": \"what have\",\n",
    "\"when's\": \"when is\",\n",
    "\"when've\": \"when have\",\n",
    "\"where'd\": \"where did\",\n",
    "\"where's\": \"where is\",\n",
    "\"where've\": \"where have\",\n",
    "\"who'll\": \"who will\",\n",
    "\"who'll've\": \"who will have\",\n",
    "\"who's\": \"who is\",\n",
    "\"who've\": \"who have\",\n",
    "\"why's\": \"why is\",\n",
    "\"why've\": \"why have\",\n",
    "\"will've\": \"will have\",\n",
    "\"won't\": \"will not\",\n",
    "\"won't've\": \"will not have\",\n",
    "\"would've\": \"would have\",\n",
    "\"wouldn't\": \"would not\",\n",
    "\"wouldn't've\": \"would not have\",\n",
    "\"y'all\": \"you all\",\n",
    "\"y'all'd\": \"you all would\",\n",
    "\"y'all'd've\": \"you all would have\",\n",
    "\"y'all're\": \"you all are\",\n",
    "\"y'all've\": \"you all have\",\n",
    "\"you'd\": \"you would\",\n",
    "\"you'd've\": \"you would have\",\n",
    "\"you'll\": \"you will\",\n",
    "\"you'll've\": \"you will have\",\n",
    "\"you're\": \"you are\",\n",
    "\"you've\": \"you have\"\n",
    "}\n",
    "\n",
    "def strip_html_tags(text):\n",
    "    soup = BeautifulSoup(text, \"html.parser\")\n",
    "    if bool(soup.find()):\n",
    "        [s.extract() for s in soup(['iframe', 'script'])]\n",
    "        stripped_text = soup.get_text()\n",
    "        stripped_text = re.sub(r'[\\r|\\n|\\r\\n]+', '\\n', stripped_text)\n",
    "    else:\n",
    "        stripped_text = text\n",
    "    return stripped_text\n",
    "\n",
    "\n",
    "#def correct_spellings_textblob(tokens):\n",
    "#\treturn [Word(token).correct() for token in tokens]  \n",
    "\n",
    "\n",
    "def simple_porter_stemming(text):\n",
    "    ps = nltk.porter.PorterStemmer()\n",
    "    text = ' '.join([ps.stem(word) for word in text.split()])\n",
    "    return text\n",
    "\n",
    "\n",
    "def lemmatize_text(text):\n",
    "    text = nlp(text)\n",
    "    text = ' '.join([word.lemma_ if word.lemma_ != '-PRON-' else word.text for word in text])\n",
    "    return text\n",
    "\n",
    "\n",
    "def remove_repeated_characters(tokens):\n",
    "    repeat_pattern = re.compile(r'(\\w*)(\\w)\\2(\\w*)')\n",
    "    match_substitution = r'\\1\\2\\3'\n",
    "    def replace(old_word):\n",
    "        if wordnet.synsets(old_word):\n",
    "            return old_word\n",
    "        new_word = repeat_pattern.sub(match_substitution, old_word)\n",
    "        return replace(new_word) if new_word != old_word else new_word\n",
    "            \n",
    "    correct_tokens = [replace(word) for word in tokens]\n",
    "    return correct_tokens\n",
    "\n",
    "\n",
    "def expand_contractions(text, contraction_mapping=CONTRACTION_MAP):\n",
    "    \n",
    "    contractions_pattern = re.compile('({})'.format('|'.join(contraction_mapping.keys())), \n",
    "                                      flags=re.IGNORECASE|re.DOTALL)\n",
    "    def expand_match(contraction):\n",
    "        match = contraction.group(0)\n",
    "        first_char = match[0]\n",
    "        expanded_contraction = contraction_mapping.get(match)\\\n",
    "                                if contraction_mapping.get(match)\\\n",
    "                                else contraction_mapping.get(match.lower())                       \n",
    "        expanded_contraction = first_char+expanded_contraction[1:]\n",
    "        return expanded_contraction\n",
    "        \n",
    "    expanded_text = contractions_pattern.sub(expand_match, text)\n",
    "    expanded_text = re.sub(\"'\", \"\", expanded_text)\n",
    "    return expanded_text\n",
    "\n",
    "\n",
    "def remove_accented_chars(text):\n",
    "    text = unicodedata.normalize('NFKD', text).encode('ascii', 'ignore').decode('utf-8', 'ignore')\n",
    "    return text\n",
    "\n",
    "\n",
    "def remove_special_characters(text, remove_digits=False):\n",
    "    pattern = r'[^a-zA-Z0-9\\s]|\\[|\\]' if not remove_digits else r'[^a-zA-Z\\s]|\\[|\\]'\n",
    "    text = re.sub(pattern, '', text)\n",
    "    return text\n",
    "\n",
    "\n",
    "def remove_stopwords(text, is_lower_case=False, stopwords=stopword_list):\n",
    "    tokens = tokenizer.tokenize(text)\n",
    "    tokens = [token.strip() for token in tokens]\n",
    "    if is_lower_case:\n",
    "        filtered_tokens = [token for token in tokens if token not in stopwords]\n",
    "    else:\n",
    "        filtered_tokens = [token for token in tokens if token.lower() not in stopwords]\n",
    "    filtered_text = ' '.join(filtered_tokens)    \n",
    "    return filtered_text\n",
    "\n",
    "def remove_States(text):\n",
    "    pattern = r'Alabama|Alaska|Arizona|Arkansas|California|Colorado|Connecticut|Delaware|Florida|Georgia|Hawaii|Idaho|Illinois|Indiana|Iowa|Kansas|Kentucky|Louisiana|Maine|Maryland|Massachusetts|Michigan|Minnesota|Mississippi|Missouri|Montana|Nebraska|Nevada|New\\sHampshire|New\\sJersey|New\\sMexico|New\\sYork|North\\sCarolina|North\\sDakota|Ohio|Oklahoma|Oregon|Pennsylvania|Rhode\\sIsland|South\\sCarolina|South\\sDakota|Tennessee|Texas|Utah|Vermont|Virginia|Washington|West\\sVirginia|Wisconsin|Wyoming|AL|AK|AZ|AR|CA|CO|CT|DE|FL|GA|HI|ID|IL|IN|IA|KS|KY|LA|ME|MD|MA|MI|MN|MS|MO|MT|NE|NV|NH|NJ|NM|NY|NC|ND|OH|OK|OR|PA|RI|SC|SD|TN|TX|UT|VT|VA|WA|WV|WI|WY'                        \n",
    "    text = re.sub(pattern, '', text)\n",
    "    return text\n",
    "\n",
    "def remove_CommonWords(text):\n",
    "    pattern = r\"U\\.S\\. Department|smartcity|smart|city|page|section|element|concept|appendix\"\n",
    "    text = re.sub(pattern, '', text)\n",
    "    return text\n",
    "\n",
    "def remove_Cities(text):\n",
    "    pattern = r'Anchorage|Birmingham|Montgomery|Scottsdale|Tucson|Chula Vista|Fremont|Fresno|Long Beach|Moreno Valley|Oakland|Oceanside|Riverside|Sacramento|San Jose_0|NewHaven|DC_0|Jacksonville|Miami|Orlando|St. Petersburg|Tallahassee|Tampa|Atlanta|Brookhaven|Des Moines|Indianapolis|Louisville|Baton Rogue|New Orleans|Shreveport|Boston|Baltimore|Detroit|Port Huron and Marysville|Minneapolis St Paul|St. Louis|Charlotte|Greensboro|Raleigh|Lincoln|Omaha|Jersey City|Newark|Las Vegas|Reno|Albany Troy Schenectady Saratoga Springs|Buffalo|Mt Vernon Yonkers New Rochelle|Rochester|Akron|Canton|Cleveland|Toledo|Oklahoma City|Tulsa|Providence|Greenville|Chattanooga|Memphis|Nashville|Lubbock|Newport News|Norfolk|Richmond|Virginia Beach|Seattle|Spokane|Madison'                        \n",
    "    text = re.sub(pattern, '', text)\n",
    "    return text\n",
    "\n",
    "def normalize_corpus(corpus, html_stripping=True, contraction_expansion=True,\n",
    "                     accented_char_removal=True, text_lower_case=True, \n",
    "                     text_stemming=False, text_lemmatization=True, \n",
    "                     special_char_removal=True, remove_digits=True,\n",
    "                     stopword_removal=True, removeStates = True, removeCities = True,\n",
    "                     removeCommonWords = True, stopwords=stopword_list):\n",
    "    \n",
    "    normalized_corpus = []\n",
    "    # normalize each document in the corpus\n",
    "    for doc in corpus:\n",
    "\n",
    "        # strip HTML\n",
    "        if html_stripping:\n",
    "            doc = strip_html_tags(doc)\n",
    "\n",
    "        # remove extra newlines\n",
    "        doc = doc.translate(doc.maketrans(\"\\n\\t\\r\", \"   \"))\n",
    "\n",
    "        # remove accented characters\n",
    "        if accented_char_removal:\n",
    "            doc = remove_accented_chars(doc)\n",
    "\n",
    "        # expand contractions    \n",
    "        if contraction_expansion:\n",
    "            doc = expand_contractions(doc)\n",
    "\n",
    "        # lemmatize text\n",
    "        if text_lemmatization:\n",
    "            doc = lemmatize_text(doc)\n",
    "\n",
    "        # stem text\n",
    "        if text_stemming and not text_lemmatization:\n",
    "        \tdoc = simple_porter_stemming(doc)\n",
    "\n",
    "        # remove special characters and\\or digits    \n",
    "        if special_char_removal:\n",
    "            # insert spaces between special characters to isolate them    \n",
    "            special_char_pattern = re.compile(r'([{.(-)!}])')\n",
    "            doc = special_char_pattern.sub(\" \\\\1 \", doc)\n",
    "            doc = remove_special_characters(doc, remove_digits=remove_digits)  \n",
    "\n",
    "        # remove extra whitespace\n",
    "        doc = re.sub(' +', ' ', doc)\n",
    "        \n",
    "        # remove states\n",
    "        if removeStates:\n",
    "            doc = remove_States(doc)\n",
    "        \n",
    "        # remove the common words\n",
    "        if removeCommonWords:\n",
    "            doc = remove_CommonWords(doc)\n",
    "\n",
    "        # remove cities\n",
    "        if removeCities:\n",
    "            doc = remove_Cities(doc)\n",
    "\n",
    "         # lowercase the text    \n",
    "        if text_lower_case:\n",
    "            doc = doc.lower()\n",
    "\n",
    "        # remove stopwords\n",
    "        if stopword_removal:\n",
    "            doc = remove_stopwords(doc, is_lower_case=text_lower_case, stopwords=stopwords)\n",
    "            \n",
    "        # remove extra whitespace\n",
    "        doc = re.sub(' +', ' ', doc)\n",
    "        doc = doc.strip()\n",
    "            \n",
    "        normalized_corpus.append(doc)\n",
    "        \n",
    "    return normalized_corpus"
   ]
  },
  {
   "cell_type": "code",
   "execution_count": 9,
   "id": "84bf63a9-bf04-44d6-a83f-b454402dba1b",
   "metadata": {
    "tags": []
   },
   "outputs": [],
   "source": [
    "corpus = normalize_corpus(df_combined['text'])"
   ]
  },
  {
   "cell_type": "markdown",
   "id": "1473a3e3",
   "metadata": {
    "tags": []
   },
   "source": [
    "#### Add the cleaned text to the structure you created.\n"
   ]
  },
  {
   "cell_type": "code",
   "execution_count": 10,
   "id": "a0dc9b31-dd0c-4e22-b9d0-cf84b644048f",
   "metadata": {
    "tags": []
   },
   "outputs": [],
   "source": [
    "cleaned_text = df_combined.copy()\n",
    "cleaned_text['text'] = corpus"
   ]
  },
  {
   "cell_type": "code",
   "execution_count": 11,
   "id": "6209de3f-97eb-400c-9055-af909f99569d",
   "metadata": {
    "tags": []
   },
   "outputs": [
    {
     "name": "stdout",
     "output_type": "stream",
     "text": [
      "rise rise meet challenge become americas next smart city icontents introduction city challenge opportunity vision goal approach capa commitment process risks systems data influence letter support become americas next smart city introduction william coleman jr fourth secretary transporta paint picture way society would travel interact leadership u department transporta set crea ng planning decision make framework guide future secretary colemans future become reality country seem stand li le progress make case city fast forward today leadership secretary transporta anthony foxx u department transporta develop year transporta plan na plan en tle beyond traffi c clear thesis united states need pivot away reliance car towards mobility system er suit ci es could agree city one u ci es help na achieve transporta vision city reemerge vibrant southern place people choose live business innovate grow thrive visitor seek historic cultural recrea onal experience careful comprehensive community planning good leadership collabora target investment take advantage new opportuni es improve overall quality life resident renew investment citys transporta system breathe new life city especially area experience urban decay city locate drama c physical landscape county seat jeff erson county large fl anke parallel mountain ridge southern extension appalachian mountains contain mineral upon early heavy industry found mul ple railroad corridor thread way area key development industrial powerhouse facilita ng transforma area rich mineral wealth one na important source iron steel industrial revolu economic decline ini ate popula fl ight suburb exacerbate concurrent mass exodus heavy industrial job iron steel industry long founda middle income prosperity however st century keystone eff ec vely pull economic arch eff ect great recession wane gain vitality popula part thank mammoth eff ort reinvent livable community rac business professional drive economy st century smart city present herein support renewal help expand economic opportunity long neglect minority low income neighborhood accord u censuss designated place datum city popula city comprise urbanized area total popula average popula density person per meet challenge become rise square mile well within popula density characteris cs smart city accord u bureau censuss lehd city contain approximately job locate award brt corridor downtown uab five points south subarea combine job approximately percent citys total job percent job brt corridor brt corridor play important role vision transform smart city vision ar culate clearly later response thing know city include neighborhood southeasts premier medical mecca student enrol uab close percent state popula within mile radius city serve fi interstate highway serve three tier rail provider percent state southeastern market reach truck within one day freight travel percent u popula reach truck within three day freight travel term city relate state synergis c role two en es know fi h large auto produce state employment sector approach three global automaker mercedes benz honda hyundai combine produce million vehicle fi rst state annual output reach big league milestone three automaker explore incorporate autonomous vehicle technology vehicle technology include everything naviga system communica entertainment system automa c braking crash avoidance system automobile part manufacturing technology accompany become state top e xport category reach billion new auto relate investment sector past four year top billion closely align usdot characteris cs smart city provide exis ng public transporta system plan new addi public transporta service environment conducive demonstra ng propose strategy leadership proven record commitment dedica capa carry demonstra throughout period performance solid commitment integra ng sharing economy share asset seamless way clear commitment open datum datum sharing thus make datum accessible usable public maximize benefi promote entrepreneurship innova become americas next smart city challenge city challenge meet mobility need poor transporta connec vity across mode underu liza exis ng transporta resource limited transit bicycle pedestrian op age crumble outdated transporta infrastructure transporta system cite barrier opportuni es access health service healthy food historic network roadway friendly pedestrian cyclist general lack pedestrian facili es inter community connec contributor widen gap socio economic condi ons addi city also confront decline total popula age ci zen base concentra poverty issue exacerbate poor quality exis ng transporta system addi onally city informa system build technology datum currently exist disconnect isolate endures pocket silo challenge integrate system technology informa exploit power full opportunity city transform rapidly change inevitable downtown already experience resurgence city whole undergo regenera ninety nine neighborhood citys revitaliza eff ort largely focus improve quality life ci zen protec ng enhance unique sense place rebuild economy founda diversity resiliency orienta toward innova healthy workforce great region strategically targe ng cataly c transporta land use land development eff ort handful core area travel corridor begin realize success area successful transforma success con nue city need make big leap modernize transporta infrastructure service delivery however moderniza mean look status quo instead city look become na onal leader urban mobility u department transporta award city tiger vii grant build bus rapid transit brt system three dis nc travel corridor city center provision federal funding assist development important infrastructure component cri cal cataly c project brt one large cataly c intend support case help jump start redevelopment impoverished neighborhood hope promise brt system usher new era travel city strengthen citys diverse communi es connec ng service link resident opportuni es however citys transporta transforma end beginning vision vision u lize new transporta infrastructure technology smart city innova urban transporta approach transform city modern thriving community showcase transforma onal power smart city mobility accessibility economic growth land development equity quality life meeting challenge become rise city look remake st century city leadership renew commitment citys growth development ac vely seek new way ract new talent business know order achieve vision set future overcome past defi cit need take bold ac remediate citys transporta system city strong desire transporta system establish broad reach link city region serve new market des na around world leadership seek take advantage citys geographic loca historic legacy pi sburgh south build upon exis ng inter modal freight rail network capitalize new interstate connec gaine combine strength individual mode birmingham vision transforma refl ect intelligent character harness tremendous power digital social network sharing economy technological advancement expand economic social capabili es exploit tremendous poten al inclusive services always move forward leave one behind transporta system innova scope derive benefi integrate datum technology use exis ng infrastructure city vision closely link idea express comprehensive plan comprehensive plan holis cally address development communi es look economic condi ons land development pa ern trend transporta need human health dispari es overall quality life facilita ng community reinvestment especially low income minority neighborhood one primary goal response smart ci es challenge inclusive planning process strategic public investment city set mo economic engine gain momentum need restore prosperity neighborhood new construc occur parkside district woodlawn evidence target public investment community renewal possible citys approach catalyze renaissance neighborhood center revitaliza eff ort around strategic opportunity area strategic opportunity area ac vity center contain necessary economic social transporta resource help successful comprehensive plan call link number strategic opportunity area together along brt corridor like string pearl loca ng brt sta within acknowledge transforma power transporta key citys revitaliza strategy short strategic opportunity area intend serve mul ple func envision catalyst community reinvestment one func intend strategic opportunity area serve mobility hub mobility hubs empt address nega f bring land development pa ern respond exclusively single travel mode automobile whose suppor infrastructure e wide high speed arterial roadway parking facili es etc discourage movement use transporta mode place connec vity diff erent mode transporta walk bike transit share ride service come together seamlessly also support intensive become americas next smart city concentra high density development accommoda ng place people income age ability work live shop andor play connec ng communi es rest region reliable rapid transit service essence mobility hub ac vity center integrate land use transporta epitomize citys vision future mobility hub hardly household phrase central place link diff erent mode transporta well thing shopping entertainment recrea family service fundamental city vision revitalize communi es elevate importance public transit cycling pedestrian travel eleva importance cri cal ensure development effi cient sustainable transporta system public transit non motorized transporta facili es within hubs help reduce automobile travel impact air quality equalizing andor priori ze cycling pedestrian travel within mobility hub also help address community health issue provide employee resident visitor communi es host mobility hub opportunity walking cycling mobility hub propose lo cat within neighborhood ac vity center make easy move one mode transporta another anchor seamless convenient connec across metropolitan planning area also improve rela onship transporta land use point build mobility hub proverbial middle nowhere order work mobility hubs need lo cat close many people whether work home play word need livable compleman ng brts service design capital investment reduce need customer travel downtown transfer mobility hub help customer access brt local transporta op well provide viable cost eff ec solu last mile connec table provide descrip mobility hub envision work within city incorpora new technology infrastructure tes ng automated connect vehicle technology use datum collec share prac ce land use user focus mobility service cri cal importance successful implementa mobility hubs vision city live laboratory tes ng innova transporta allow city close exis ng socioeconomic gap defi ning transporta mobility access service growth opportuni es year provide enhance transporta op move people good safe effi cient sustainable equitable way select smart city challenge city propose leverage exis ng resource expand recent transporta urban planning ini f introduce new technology strategy tu onal change address local transporta challenge spur economic development improve quality life ci zen transporta op currently available plan support mobility hub include meet challenge become rise traffi c management center tmc city operate traffi c management cent er tmc lo cat city hall tmc design monitor traffi c use cv camera control traffi c signal intersec proac vely deploy traffi c management strategy reduce conge special event emergency daily stop go traffi c public transporta city apply subsequently win u department transporta tiger vii grant assist city development long plan bus rapid transit brt system brt system spine imagine transit system brt serve series mobility hub local bus service feed brt system instead run central loca brt propose minute frequency peak travel period minute headway peak period local bus service improvement jeff erson county transit authority also undertake complete overhaul fi xed route bus service major improvement local bus service primarily focus change route improvement also include technology upgrade automate vehicle loca avl real vehicle arrival system automate passenger counter apc electronic payment system car sharing program city host car share program university uab car share operate private en ty currently limit student faculty uab employ part universitys conge management strategy car share program provide individual need car occasional use op rent vehicle short period commutesmart city ac partner regional planning commission greater commutesmart ini commutesmart commuter service program operate state four metropolitan transporta management table mobiliity hub typologie regional mobility hubs serve mul ple communi es regional mobility hub serve regional ac vity center poten al high level popula employment densi es generate high level travel demand center poten al transit travel mode include high capa public transporta service plan bus rapid transit brt system well express local bu service regional hub defi ned base scale character transit service availability type func community mobility hubs community scale mobility hub serve majo r regional des na func onally important gateway inter regional connec ons airport emerge ac vity center universi es college major park stadium regional shopping center neighborhood mobility hubs sta locate high capa transit line primarily providi ng access high capa local transit service nea rby resident low density single use area include p revious defi ni ons become americas next smart city areas ts e huntsville mobile within metropolitan planning area commutesmart ac vely support help maintain vanpool iden fy ac carpool rideshare database commercial shared ride services city recently pass ordinance allow shared ride service uber lyo operate within city many citys neighboring jurisdic follow suit soon ao er ng make sense allow service economic cultural entertainment hub region inter modal connec city currently comple ng construc inter modal transporta center downtown inter modal center provide connec local bus service interregional inter bus service passenger rail taxi share ride service bikeshare citys urban trail network bike share sta ons bicycle facili es since city home zyp bikeshare program currently zyp bikeshare dense network kiosk bike whose exis ng service primarily focus city center adjacent neighborhood zyp aspira expand beyond downtown look provide bikeshare across city well neighboring ci es zyp bike bike bicycle employ technology know traveler check previous route web within zyp bikeshares app useful tool individual seek achieve health goal plan en es look iden fy travel pa erns folk simply want know along state art bicycle zyp bikeshare also employ sustainable docking sta sta ons use clean energy power independently sta bike charge fully solar panel sta bike c ommuni cate large network wirelessly sta ons may permanent however design allow portable adapt temporarily specifi c event city envision zyp bikeshare sta lo cat mobility hub provide seamless connec traveler choose use transit walk drive ac vity center adjacent neighborhood car share access car sharing er poten al model city quest become smart city car sharing currently accessible beyond uab campus car sharing support eff ort revitalize communi es make livable reduce need addi onal large roadway infrastructure surface parking addi onally car sharing provide poten al economic saving government private company meet challenge become rise help reduce fl eet cost minimize local transporta expense meet sustainability goal pedestrian facili es freshwater land trust partnership jeff erson county department health complete red rock ridge valley trail plan red rock jeff erson county home county city city subsequently adopt red rock plan since integrate comprehensive plan suppor ng community framework plan city apply award tiger iv grant en tle road recovery tiger iv grant fi rst phase plan complete streets mul modal transporta system help city jumpstart implementa red rock mul use trail system date mile sidewalk bike lane road trail construct smart parking roughly street parking meter another structured parking space tremendous opportunity city u lize interac parking system would help alleviate traffi c conge provide ci zen visitor convenience increase city revenue city review several smart parking system solu prepare procure system meet desire need ability iden fy available open street parking spot open space parking garage interac map desire system also enable user pay parking use phone app compa ble ios android windows user also would fi ed meter expire become americas next smart city addi smart ci es strategy city also ac vely work embrace freight transporta part vision smart ci es challenge building region success obtain tiger grant regional inter modal freight facility city look develop freight village integrate logis cs center take advantage exis ng rail highway waterway infrastructure freight village defi ned area within ac vi es rela ng transporta logis cs distribu good na onal interna onal transit carry various operator freight village envision accommodate state art distribu center industrial ac vi es serve large market area shun passive ac vi es container storage type distribu center automate manufacturing industrial ac vi es already begin occur within greater region around automo manufacture industry city goal develop freight village leverage freight opera ons create economic value underu lize abandon industrial site par cular provide strategy reuse brownfi eld site city also look create share value communi es freight village would locate include development expansion support business retail restaurant banking store hotel well provide offi ce space non retail business city goal accomplish development freight village include increase rail mode share b improve environmental quality c crea effi cient cost eff ec freight delivery system city freight village envision lo cat adjacent modal shio facili es modal shio facili es locate within freight village modal shio facili es transporta facili es good move two form freight transporta rail truck barge rail truck air rail truck sensi surround land use blend communi es contribu ng citys quality life ideally employ citys newly develop character base zone criterion showcase open space industrial space coexist demonstra ng citys desire incorporate green building technique employ low impact design parking staging area several exis ng industrial site within city rail access proximate interstate highway air water transport nearby loca freight village might evolve thrive meet challenge become rise table smart ci es challenge goals objec f performance metrics smart ci es goal program objec performance measures enhance mobility accessimprove mobility provide transporta choicestravel time index vehicle miles travelled vmt lane miles conges congested vehicle hour travelled change travel time due conges investment public transit service area transit service hours per capitatotal bikeway milestotal trail milesra bikeway miles major roadways number commutesmart registrantsnumber zyp bikeshare registrants trips make transit trips make non motorized mode trips make shared modesvehicle miles reduce incen f programs get green commuterclub goal city use funding available smart city challenge accomplish follow programma c goal enhance mobility access improve traffi c safety users reduce environmental impacts support sustainability mulate economic growth specifi c measurable program objec f set monitor progress demonstrate impact plan ini f mobility safety climate change sustainability economic growth goal objec f summarize table xx along corresponding performance measure line programma c goal set forward regional planning commission greater present regional transporta plan far refi nement program objec f performance measure take place part deployment plan development phase smart ci es challenge program independent performance evalua plan focus gathering manage analyze datum need produce performance measure compare measure pre set target validate system performance iden fy system ineffi ciencie city stakeholder support facilitate informa share independent evaluator access site datum gathering processing ensure independent performance evalua perform mely effi cient manner overall goal eff ort would quan fy evaluate impact advanced become americas next smart city improve traffi c safety usersreduce crash occurrence reduce crash severity reduce incident hotspots improve incident management responsetotal number crashes number crashes per million vnumber crashes travel mode vehicle transit pedestrian bicycle number crashes due human error fatality rate year move average injury rate year move averages pdo rate year move average change number loca signifi average total incident rate average e response traffi c incident average incident clearance reduce environmental impacts promote sustainabilityreduce automobile use reduce pollu fuel con sump associate transpor ta promote energy effi cient transpor ta alterna ves promote environmental social economic sustainability communityvmp per capita total employees telecommu ng commuter use diff erent transporta modes net greenhouse gas emission impact transit service fuel effi cient vehicle commercial fleetsgreen house gas totalnox total ton per year pm ton per year market share electric hybrid passen ger carsnumber electric vehicle charging sta energy use mobility hubs score sts communi es sustainability ra ng system mulate economic growthsupport economic compe veness provide aff ordable transporta op commuterssupport economic compe veness provide aff ordable transporta op commuters meeting challenge become rise technologie ini f undertake part smart city challenge summarize lesson learn benefi ci es face similar challenge also remain technical tu onal policy challenge relate deployment system support smart city priori es iden fi ed countermeasure address present approach building current asset strategic plan move forward intend use smart city challenge funding introduce technology drive transporta improvement address current transporta challenge iden fi ed within provide equitable high quality transporta op service fulfi need travel public transporta industry citys vision transforma smart city inclusive many uots defi ni several smart city transporta system improvement innova envision employ closely link usdot vision successful smart city example include following connected vehicles city plan u lize fund smart city challenge instrument infrastructure meet transporta mobility need future two way short medium range wireless communica capability important fi rst step direc city use dedicat ed short range communi ons dsrc technology enable informa sharing among instrument vehicle vv instrumented vehicle infrastructure vi crucial allow tes ng adop connect vehicle furthermore city work regional planning commission greater region metropolitan planning organiza central regional transporta organiza department transporta communica provider integrate various communica ons pla orm enable either dsrc available network support connected vehicle deployment include communica ons technology cellular wi fi satellite communica ons remove exis ng barrier promo share transporta process share resource common rule opera assume maturity na onal research development eff ort area connect vehicle near future city ac vely seek opportuni es par cipate pilot te ng become americas next smart city connect vehicle early adopter connect vehicle city validate designa smart city play important role connect vehicle evalua technology transfer ini f city also work bjcta explore opportuni es instrumenta transit bus become part connect vehicle program work closely expert university city develop implement comprehensive plan assess impact connect vehicle deployment conge traffi c safety fuel consump air quality user sa sfac technology transfer training outreach provide evidence impact connect vehicle mobility safety environment facilitate enhanced adop deployment connect vehicle medium size ci es future automated transit networks city understand importance urban automa plan work closely researcher partner university automo industry remove tu onal barrier address new technical policy challenge associate vehicle automa city interested pursue development tes ng automated transit network commonly know personal rapid transit prt prt probably well describe hybrid private car public transit prt vehicle could hold four people mimic private quiet ride car rela exis ng transporta alterna f would li le emission traffi c conge loud noise ensive odor produce prt prt could eff ec vely supplement soon construct bus rapid transit system encourage car free development provide des na des na service minimal walk sta prt envision important part shu lesworth interna onal airports con nue evolu provide cri cal connec airport terminal soon build consolidated rental car facility propose offi ce light industrial development adjacent proper es hotel conference space uptown development lo cat edge downtown intelligent sensor based infrastructure smart city city realize importance instal sensor transporta network monitor traffi c condi ons op mize signal ming support incident management facilitate informed decision mode choice give real informa available op commi ed address need plan collaborate department transporta expert uab develop implement sensor deployment meeting challenge become rise plan meet current future need transporta infrastructure instrumenta smart city require use technology collect process disseminate informa thus allow system manager user op mize effi ciency safety conserve resource instrumenta vehicle roadway infrastructure sensor well use suppor ng resource video monitoring tracking gps datum tag mobile phone signal fare card monitor traffi c condi track movement vehicle pedestrian bicyclist real essen al ingredient delivery successful integrated transporta program provide effi ciency choice part smart city paradigm dsrc wireless communica ons gps vehicle sensor need enable exchange informa among connect vehicle instrumented vehicle infrastructure phone app allow user get real informa transit schedule car share op bike sharing loca parking availability addi onally sensor use monitor con nuously condi ons transporta network asset order op mize resource use opera maintenance moreover availability robust datum help tremendously city eff ort priori ze need make investment decision future sensor may also need building infrastructure monitor condi manage water use wastewater grid energy transmission example electrochemical sensor use determine vapor emana ng organic pollutant rain event storm drain detect chemical composi contaminant chemical sensor use iden fy loca sensi pollu rain event ul mately discharge untreated receive water river stream city work closely local u li es company leverage resource smart city challenge program order introduce sensor instrumenta testbe addi use sensor part intelligent infrastructure explore use interac technology crowd sourcing get informa ci zen need preference help decision maker address key issue aff ec ng public part smart city program challenge remain related data fusion integra storage vast amount datum expect generate within smart city context city become americas next smart city rely exper se faculty uab develop employ appropriate datum mining technique assist greatly interpret use datum effi cient crea way benefi public urban analy cs mul modal transporta system envision drive datum datum allow system planning truly refl ect demand community need opera eff ec veness transporta system con nuously monitor real ensure community need meet regardless condi datum gather variety source allow integra mobility broad goal community health economic vitality rely collec datum mul ple seemingly disparate source synthesis analysis data center provision stakeholder mely easily accessible format transporta datum core datum relate community health economic energy resiliency integrate well ensure member community serve transporta system monitoring tradi onally diffi cult medium sized ci es like unable aff ord extensive detector monitoring system find many large ci es datum collec oo en depend limited sample eff ort fortunately founda datum analy cs already place regional planning commission uab establish regional transporta data center partnership monitor performance regional transporta system make datum analysis available stakeholder currently center focus collec ng analyze historical travel datum count vehicle speed travel transit usage incident report datum use monitor conge trend iden fy hot spot conge incident priori ze transporta project datum also use evaluate eff ec veness transporta improvement project scratch surface center vision move forward center recently begin incorporate mul modal datum transit bicycle pedestrian freight also grow importance serve link piedmont atlan c gulf coast mega region tackle extensive analy cs require future uab bring big data analy cs lab eff ort lab originate electrical engineering department provide big datum exper se across uab medical research center pursue cu ng edge research industrial collaborator combine datum mul ple source novel way able develop mul modal transporta system truly support vision personal mobility community health economic vitality smart cards city envision access transporta service transit bikeshare parking seamless currently meet challenge become rise region transporta provider provide access service use diff erent payment medium public transit u lize cash paper pass cket book zyp bikeshare user access bike kiosk use either credit card pre pay key fob also use phone via zyp bikeshare app driver access street parking citys public structured parking facili es use loose change cash respec vely card envision employ new technology currently deploy na bank provide traveler secure payment system universally accept fl exible design enable traveler er budget transporta allow access travel across mul ple transporta mode frequent use also enable traveler er track use transporta system well agency er understand system use finally technology aid agency cut opera ng cost elimina ng need manage mul ple payment medium reduce risk pose fraud physically collec ng money smart land use city embrace new urban future comprehensive plan comprehensive plan drao ed adopt october lay cri cal founda achievement vibrant sustainable region comprehensive plan establish inclusive vision revitaliza er exhaus list strategy encouraging rac ng community reinvestment well idea develop healthy neighborhood include recommenda variety housing choice accessible across range income age ability well infrastructure recommenda complete street policy minimize health dispari es public private investment place public ameni es woodlawn avondale neighborhood lakeview parkside district railroad park regions field crossplex example integrate holis c approach city take address complex challenge face subsequent framework plan district level comprehensive planning document build comprehensive plan citys primary policy tool achieve vision city smart places framework plan provide great clarity detail direc land use land development transporta housing ac passive greenspace e park trail open space u li es economic development smart places revolve become americas next smart city around citys vision communi es neighborhood er connect service opportuni es walkable bicycle friendly er range housing choice aff ordable suppor neighborhood scale business well large urban economy provide safe healthy environment resident end development mass transit service par cularly brt system establish system connected mobility hub mobility hub previously describe vision smart city strategic business models partnering opportuni es city collaborate closely university u lize exper se technical capabili es faculty member uab plan design implement evaluate ini f undertake part smart city challenge program collabora agreement uab city sign february mark beginning successful partnership serve solid founda smart city challenge program uab sustainable smart ci es research center src uab already establish role engine innova transform community use technology informa system eff ec transporta alterna f renewable energy op sustainable environment solu partnership uab sustainable smart ci es research center uab city create excellent research educa train collabora opportuni es within unique se ng become live laboratory implementa te ng innova research applica benefi community moreover uab university partner southeast transporta research innova educa center st regional university transporta center c lead university st university partner devote energy three major focal area transporta safety livable communi es economic compe veness directly relate smart city challenge program priori es uab also member na onal center transporta system produc vity management tspm tier na onal university transporta center lead ins tute technology well establish partnership city uab sustainable smart ci es research center st tspm university transporta centers part smart city challenge foster cross disciplinary research training outreach promote development innova solu sustainable ci es communi es dissemina fi nding benefi transporta agency professional public large uab commitment economic development also align regional state strategy include blueprint communitys growth strategy lead business alliance accelerate seek drive recruitment new project business reten develop home grown start figure provide graphic illustra loca within city meet challenge become rise many smart city desire note document present high level vision propose smart city technology deployment detailed technical management approach realize aforeman oned vision along specifi cs implementa requirement metric use quan fi evalua impact associate deployment opera outside scope current solicita capa uab sustainable smart ci es research center describe previously sustainable smart ci es research center university enable pla orm interdisciplinary collabora understand transform impact urbaniza scien fi c economic human level uab provide avenue training uab train researcher leader community advance science ci es sustainability urban se ng research uab contribute development new science ci es promo ng interdisciplinary research seek understand dynamic impact build environment technology effi ciency ci es quality life communi es outreach uab educate community sustainable engage ci zen transform build environment ac vely par cipa ng center research educa program uab bill l harbertins tute innova entrepreneurship uab ins tute innova entrepreneurship iie improve effi ciency compe veness research engine environment fuel sustain innova among faculty researcher student community leader iie help accelerate new company forma technology transfer improve fl exible process build success uab research founda uabrf since incep uabrf generate million licensing revenue help create start company base product technology discover uab iie bolster inven innova ii program ii joint eff ort school business uab research founda business alliance market uab asset high commercial poten al innova depot open innova depot incubator economic development program host share co work space facility abandon sears department store citys entrepreneurial center west center southeasts premier technology business incubator heart newly designate eco district innova depot also host uab offi ce advancement developing industries square foot space design accommodate many small business worker however demand high currently company employ people work innova depot banner partnership city innova depot con nue work support early stage technology company see take wing stay local company go program stay close home become americas next smart city figure annotated map smart ci es challenge technology programma c demonstra sites meet challenge become rising graduate graduate innova depot include company rf motus motorcycle company employ house design patent v engine engine motus design develop world fi rst direct inject liquid cool v engine company manufacture facility downtown workforce readiness city long commi ed workforce development training lawson state community college locat ed city accessible public transit consider historically black college university hbcu lawson state par cipa ng member center automo excellence er three auto mechanic program sponsor manufacturer ford asset gm asep toyota ten program design help address demand skilled automo technician reduce talent gap job post available worker fi rank among top good community college country consistently rank top group lawson state community college also one na onal alterna fuels training consor um naftc affi liate na onal training centers naftc include na onal network na onal training centers post secondary educa training organiza ons provide vehicle instruc demonstrate commitment move towards provide instruc alterna fuel alterna fuel vehicle afvs advanced technology vehicle related technology since lawson state train mechanic specifi cally care repair afv advanced technology vehicle include electric vehicle lawson state also top supplier skilled labor automo industry graduate find gainful employment mercedes benz u hyundai america toyota nissan lawson state community college recognize obama administra champion change work develop next genera skilled labor provide successful bridge voca onal academic educa lawson state community colleges campus link directly brt host mobility hub connect area mobility hub currently plan part citys comprehensive planning process bessemer campus link brt corridor expand west future phase addi training mechanic statewide push technology network industrial development training community college try accelerate teach specifi c technical skill include teach computer code skill code org na onal organiza focused increase access computer science educa code org partnering college ready state department educa invest build eff ort expand computer science course k classroom across state investment double number teacher qualifi ed train teach computer science state public school commitment leadership since become mayor become americas next smart city william bell sr steer city new exci ng direc ao er inheri ng million budget defi cit mayor bell quickly take control begin transform city bring renaissance development culture usher new era economic prosperity mayor bells leadership make key strategic investment spark growth revitaliza development new downtown baseball stadium region field negro southern league museum con nue support railroad park bring hundred million dollar private investment thriving parkside district return baseball city investment crossplex uptown entertainment district implementa red rock ridge valley trail system currently spur residen al commercial growth throughout numerous corpora r elocate renew commitment stay include healthsouth steris kamtech among mayor bell sign memorandum understanding university sustainable smart ci es research center partner project would make livable partnership receive one one four united states ibm smarter ci es challenge grants aim elimina ng food desert mayor bell change face locally ambassador world serve president african american mayors associa aa co chair u conference mayors commi ee human rights also co chair brothers keeper ini u conference mayors president barack obama sharing economy city commi ed developing sharing economy con nue integrate transporta technology solu ons support highly fl exible economic network city already make easy share resource demand suppor ng development awarding win innova depot city support development co working space rev socialventure th place arts socialventure f acility lo cat historic woodlawn neighborhood er birmingham entrepreneur non profi ts start share offi ce retail space divisible space house mee ng workshop recep th place arts er customizable studio workspace ar st maker crea f facili es innova depot socialventure th place arts lo cat propose mobility hub loca innova depot already access zyp bikeshare program two loca propose access zyp bikeshare brt addi suppor ng co working space city also support urban food project urban food project aim build robust local food economy crea ng healthy food access program meet challenge become rise assists corner store owner share resource help purchase market market sell fresh produce urban food project address birmingham food desert problem assis ng farmer plan crop access underserve market e birmingham food desert provide delivery service quality produce neighborhood restaurant corner store finally city suppor sharing economy rideshare company uber lyo well apartment house sharing company air bnb permi ed operate within city limit large agreement allow business operate within city open sharing economy market en central region process decision maker decision structure establish include input key team member risk reward matrix establish allow ranking iden fi ed component op specifi c project program implementa strategy implementa plan submi ed commi ee review rank objec smart ci es challenge well available resource implementa key decision factor include op miza exis ng asset b integra program component c expandability transferability e ability advance smart ci es challenge objec ves specifi cally mobility hub approach allow diverse input selec technology approach good advance city overall smart ci es program generate outcome maximum benefi city approach also iden fy ac vi es implement jurisdic na onwide team member iden fy one representa serve commi ee assist alterna selec commi ee chair mayors offi ce program management program management structure smart ci es challenge program put place ini al formula program objec f implement con nuously closeout program program management team include ndividual project management plan program scheduling financial management value engineering risk several poten al technical policy tu onal risk associate deployment city smart ci es challenge vision risk many varied might avoid mi gate though ul careful prepara transparency educa decision make program management structure design address many risk iden fi ed herein systems transporta infrastructure may metropolitan planning area func onally classifi ed roadway comprise become americas next smart city transit services ifixe route paratransit service provide city jeff erson county transit authority bja bjcta operate route consis ng fi xe route market x b one express route c two neighborhood circulator one specialty shu le service shu lesworth interna onal airport e two downtown circulator route fi xe route paratransit service operate monday friday pm saturdays midnight service provide sunday shared use mobility services several shared use mobility service currently available city example include zyp bikeshare car sharing commutesmart commercial shared ride services detail service available vision informa communica technology city process upgrade infrastructure adhere security guideline allow robust secure network pla orm city already deploy voip voice internet protocol communica across board integrated unifi ed communica ons system several erp enterprise resource planning system already place specifi c fi nance public safety police fi court human resource document imaging body camera police personnel es gis mapping system integrate erp system city already complete require infrastructure include fi ber op cs layout support ng system table iden fi ed risks successful implementa smart ci es challenge risk type descrip technicalinfrastructure readiness ability keep infrastructure update accom modate new technologytechnology integra integra mul ple transporta system component poli calcon nuity city enjoy con nuity leadership since poten al turnover elect business leadership could threat en smart ci es ini ves control mul ple en es control diff erent component transporta system necessarily share vision policyalignment exis ng plan transporta cri cal infra structure smart ci es cri cal success fundingfunding availability availability funding addi monie award smart ci es challenge implementa could challeng ingfunde adequacy even funding provide ensure dequacy advance smart ci es might pose challenge ins tu onallegacy system management management legacy system ran si new transporta could challenging par cularly around infrastructure maintenance educa educa stakeholder public fundamental change transporta need con nuous clear meeting challenge become rise also build traffi c control center maintain monitor x traffi c intersec city recently update web presence incorpora ng majority eservices include online business tax payment parking cket traffi c fi ne payment food truck vendor applica etc associated web app develop well city also develop public service web portal launch near future finally city consider gig gigabit fi ber network self heal ring deployment city whole provide high bandwidth internet connec vity city business public well intelligent transporta systems city operate traffi c management center tmc u lize cv camera monitor traffi c condi control traffi c signal intersec remotely response recurrent non recurrent conge tmc update include new video wall ethernet switch video management soo ware work sta encoder server video wall server center design set manage copper fi ber cable plant city goal work mul agency mul jurisdic onal manner tmcs reach might extend beyond citys boundary aid monitoring collec ng informa en transporta system use network sensor camera technology architecture data standards intelligent transporta syst ems present stakeholder variety op order address variety transporta need framework provide na onal architecture make system product service compa bility possible without limi ng design op stakeholder connected automate vehicle emerge expansion na onal architecture standards need provide necessary guidance stakeholder develop system solu compa ble order share datum provide coordinate area wide integrate opera support interoperable equipment service appropriate connected vehicle reference implementa cva develop address need smart city city commi ed use na onal architecture standards well cva guideline defi ne opera onal user table roadway system descrip func onal classifi ca onregion center line mles center line miles percent total freeway principal arterial minor arterial major minor collector become americas next smart city performance program requirement deployment technology connect automate vehicle technology part implementa process furthermore research team document exis ng gap respect use currently available architecture standard protocol eff ort inform uot standard se ng organiza ons need refi nement development new standard support adop interoperable architecture integrate fully open system data data availability date datum collect city historical travel datum use forecas ng planning purpose roadway system currently collect traffi c count travel speed datum travel datum informa incident crash transit city collect ridership datum pedestrian bicycle city begin eff ort collect datum mode pedestrian facility count automated datum zyp bikeshare program also available provide useful datum bike pa ern city datum currently analyze warehouse regional transporta data center partnership regional planning commission uab data collec city con nue current datum collec eff ort future goal move forward focus collec ng datum mul ple mode source integra ng datum database e g medical geospa al collec ng analyze datum real collec ng datum effi ciently use personal technology infrastructure automate datum collec distribu ng datum analysis real ci zen stakeholder addi onal datum allow city er monitor complete transporta system real shio resource need accommodate change demand condi require real datum analy cs distribu something w hich data center begin plan data warehousing datum con nue store analyze distribute regional transporta data center addi uab big data analy cs lab partner enhance eff ort data sharing proprietary nature much transporta datum sharing datum diffi cult past travel datum provide u government example easily share outside en es due ownership agreement similarly freight datum consider proprietary private carrier reluctant release datum relate actual type freight move even great barrier exist community health datum personal privacy paramount one ini al poten ally diffi cult task data center move forward assess datum share hurdle iden fy eff ec way resolve small eff ort essen al future success goal make datum analy cs available local stakeholder real city commi ed publish dataset online easy use format analyze use republish need example aggregate traffi c accident datum include loca day currently city meeting challenge become rise discussion code brigade regard establishment open data policy data integra datum integra perform support uab big data analy cs lab datum cipate wide variety source highway transit freight bicycle medical personal device infrastructure integra analysis require development protocol key stakeholder influence brt improve public transporta service complete streets pedestrian network funding receive smart ci es challenge assist low income resident climb economic ladder er long term opportuni es family neighborhood city intend leverage resource provide tiger vii grant catalyze reinvestment citys neighborhood redevelopment along brt corridor addi tiger funding city work successfully regional planning commission greater rpcgb metropolitan planning organiza mpo metropolitan area leverage federal fund sidewalk trail roadway intelligent transporta system infrastructure citys work u department housing urban development hud rebuilding pra community follow april tornado u environmental protec agency u e remedia ng north superfund site also example city leverage federal fund city also successful track record come leverage private resource construc regions field railroad park downtown see city work partnership local business development community raise fund construct facili es turn catalyze redevelopment industrial area thriving enclave young professional innova business entrepreneur likewise work local non profi organiza woodlawn founda citys woodlawn neighborhood transform one citys bad area one desirable successfully leverage funding use economic development tool tax increment finance tif district capital improvement coopera districts cicd fund cri cal infrastructure development repair city plan use tool assist revitaliza eff ort brt corridor brt sta also mobility hub iden fi ed smart ci es challenge vision city state home several fi nancial tu na onal interna onal footprint tu strong track record provide philanthropic support civic contribu help improve overall quality life resident finally university partner endeavor commi ed leverage rela onship research network local academic tu leverage collec resource private industry par cularly within states automo manufacture industry research deploy smart ci es technology strategy\n"
     ]
    }
   ],
   "source": [
    "print(cleaned_text['text'][1])"
   ]
  },
  {
   "cell_type": "markdown",
   "id": "82cc947b",
   "metadata": {},
   "source": [
    "### Clean Up: Discussion\n",
    "Answer the questions below."
   ]
  },
  {
   "cell_type": "markdown",
   "id": "2f1ba98d",
   "metadata": {
    "tags": []
   },
   "source": [
    "#### Which Smart City applicants did you remove? What issues did you see with the documents?"
   ]
  },
  {
   "cell_type": "markdown",
   "id": "ffebf5a5",
   "metadata": {},
   "source": [
    "[Your Answer Here]"
   ]
  },
  {
   "cell_type": "markdown",
   "id": "1620ed74",
   "metadata": {},
   "source": [
    "#### Explain what additional text processing methods you used and why."
   ]
  },
  {
   "cell_type": "markdown",
   "id": "ae42fc81",
   "metadata": {},
   "source": [
    "I used 3 functions remove_States(), remove_CommonWords(), remove_Cites() other than the ones provided in the text_normalizer.py to re which would that may effect clustering and topic modeling"
   ]
  },
  {
   "cell_type": "markdown",
   "id": "15817355",
   "metadata": {},
   "source": [
    "#### Did you identify any potientally problematic words?"
   ]
  },
  {
   "cell_type": "markdown",
   "id": "e0ad6082",
   "metadata": {},
   "source": [
    "I found some problematic words looking at some of the cleaned data which are as follows:\n",
    "cteure\n",
    "nthern\n",
    "knik\n",
    "chlenge\n",
    "automo\n",
    "ci\n",
    "es\n",
    "There are many such words that don't mean anything."
   ]
  },
  {
   "cell_type": "markdown",
   "id": "a1507fbe",
   "metadata": {},
   "source": [
    "## Experimenting with Clustering Models\n",
    "\n",
    "Now, you'll start to explore models to find the optimal clustering model. In this section, you'll explore [K-means](https://scikit-learn.org/stable/modules/generated/sklearn.cluster.KMeans.html), [Hierarchical](https://scikit-learn.org/stable/modules/generated/sklearn.cluster.AgglomerativeClustering.html), and [DBSCAN](https://scikit-learn.org/stable/modules/generated/sklearn.cluster.DBSCAN.html#sklearn.cluster.DBSCAN) clustering algorithms.\n",
    "Create these algorithms with k_clusters for K-means and Hierarchical.\n",
    "For each cell in the table provide the [Silhouette score](https://scikit-learn.org/stable/modules/generated/sklearn.metrics.silhouette_score.html#sklearn.metrics.silhouette_score), [Calinski and Harabasz score](https://scikit-learn.org/stable/modules/generated/sklearn.metrics.calinski_harabasz_score.html#sklearn.metrics.calinski_harabasz_score), and [Davies-Bouldin score](https://scikit-learn.org/stable/modules/generated/sklearn.metrics.davies_bouldin_score.html#sklearn.metrics.davies_bouldin_score).\n",
    "\n",
    "In each cell, create an array to store the values.\n",
    "For example, \n",
    "\n",
    "|Algorithm| k = 9 | k = 18| k = 36 | Optimal k| \n",
    "|--|--|--|--|--|\n",
    "|K-means| [S,CH,DB]| [S,CH,DB] | [S,CH,DB] | [S,CH,DB] |\n",
    "|Hierarchical |[S,CH,DB]| [S,CH,DB]| [S,CH,DB] | [S,CH,DB]|\n",
    "|DBSCAN | X | X | X | [S,CH,DB] |\n",
    "\n",
    "\n",
    "\n",
    "### Optimality \n",
    "You will need to find the optimal k for K-means and Hierarchical algorithms.\n",
    "Find the optimality for k in the range 2 to 50.\n",
    "Provide the code used to generate the optimal k and provide justification for your approach.\n"
   ]
  },
  {
   "cell_type": "markdown",
   "id": "8da2b033",
   "metadata": {},
   "source": [
    "|Algorithm| k = 9 | k = 18| k = 36 | Optimal k| \n",
    "|--|--|--|--|--|\n",
    "|K-means|--|--|--|--|\n",
    "|Hierarchical |--|--|--|--|\n",
    "|DBSCAN | X | X | X | -- |\n",
    "\n"
   ]
  },
  {
   "cell_type": "code",
   "execution_count": 131,
   "id": "2dc8c7ab",
   "metadata": {},
   "outputs": [],
   "source": [
    "import bs4\n",
    "import yellowbrick\n",
    "from yellowbrick.cluster import KElbowVisualizer\n",
    "from sklearn.feature_extraction.text import TfidfVectorizer, CountVectorizer\n",
    "from sklearn.cluster import KMeans, AgglomerativeClustering, DBSCAN\n",
    "from sklearn.metrics import silhouette_score, calinski_harabasz_score, davies_bouldin_score\n",
    "import matplotlib.pyplot as plt\n",
    "import numpy as np\n",
    "import pandas as pd"
   ]
  },
  {
   "cell_type": "code",
   "execution_count": null,
   "id": "0d96d23a",
   "metadata": {},
   "outputs": [],
   "source": [
    "tfidf = TfidfVectorizer(ngram_range=(1,3))\n",
    "tfidfdocs = tfidf.fit_transform(raw_documents=cleaned_text['text'])\n",
    "\n",
    "model = KMeans(n_init='auto' ,max_iter=300)\n",
    "visualizer = KElbowVisualizer(model, k = (2,50), metric = 'silhouette', timings = False)\n",
    "visualizer.fit(tfidfdocs)\n",
    "visualizer.show()"
   ]
  },
  {
   "cell_type": "code",
   "execution_count": null,
   "id": "a42487a5-fb22-443d-b210-79063a8eea2f",
   "metadata": {
    "tags": []
   },
   "outputs": [],
   "source": [
    "# Set the scorer to Calinski-Harabasz score\n",
    "visualizer.score_type = 'calinski_harabasz'\n",
    "\n",
    "# Fit the visualizer using TF-IDF data\n",
    "visualizer.fit(tfidfdocs)\n",
    "\n",
    "# Show the Calinski-Harabasz score plot\n",
    "visualizer.show()\n",
    "\n",
    "# Set the scorer to Davies-Bouldin score\n",
    "visualizer.score_type = 'davies_bouldin'\n",
    "\n",
    "# Fit the visualizer using TF-IDF data\n",
    "visualizer.fit(tfidfdocs)\n",
    "\n",
    "# Show the Davies-Bouldin score plot\n",
    "visualizer.show()"
   ]
  },
  {
   "cell_type": "markdown",
   "id": "6c20fd69",
   "metadata": {},
   "source": [
    "#### How did you approach finding the optimal k?"
   ]
  },
  {
   "cell_type": "markdown",
   "id": "753c54da",
   "metadata": {},
   "source": [
    "[Your answer here]"
   ]
  },
  {
   "cell_type": "markdown",
   "id": "f79ec635",
   "metadata": {},
   "source": [
    "#### What algorithm do you believe is the best? Why?"
   ]
  },
  {
   "cell_type": "markdown",
   "id": "3136b0a4",
   "metadata": {},
   "source": [
    "[Your Answer]"
   ]
  },
  {
   "cell_type": "markdown",
   "id": "2e45a2a3",
   "metadata": {},
   "source": [
    "### Add Cluster ID to output file\n",
    "In your data structure, add the cluster id for each smart city respectively. Show the to append the clusterid code below."
   ]
  },
  {
   "cell_type": "code",
   "execution_count": null,
   "id": "9ad83e3b",
   "metadata": {},
   "outputs": [],
   "source": []
  },
  {
   "cell_type": "markdown",
   "id": "959e7275",
   "metadata": {},
   "source": [
    "### Save Model\n",
    "\n",
    "After finding the best model, it is desirable to have a way to persist the model for future use without having to retrain. Save the model using [model persistance](https://scikit-learn.org/stable/model_persistence.html). This model should be saved in the same directory as this notebook and should be loaded as the model for your `project3.py`.\n",
    "\n",
    "Save the model as `model.pkl`. You do not have to use pickle, but be sure to save the persistance using one of the methods listed in the link."
   ]
  },
  {
   "cell_type": "code",
   "execution_count": null,
   "id": "1c80938e",
   "metadata": {},
   "outputs": [],
   "source": []
  },
  {
   "cell_type": "markdown",
   "id": "3fe5a0c9",
   "metadata": {},
   "source": [
    "## Derving Themes and Concepts\n",
    "\n",
    "Perform Topic Modeling on the cleaned data. Provide the top five words for `TOPIC_NUM = Best_k` as defined in the section above. Feel free to reference [Chapter 6](https://github.com/dipanjanS/text-analytics-with-python/tree/master/New-Second-Edition/Ch06%20-%20Text%20Summarization%20and%20Topic%20Models) for more information on Topic Modeling and Summarization."
   ]
  },
  {
   "cell_type": "code",
   "execution_count": null,
   "id": "b684bc24",
   "metadata": {},
   "outputs": [],
   "source": []
  },
  {
   "cell_type": "code",
   "execution_count": null,
   "id": "915516dc",
   "metadata": {},
   "outputs": [],
   "source": []
  },
  {
   "cell_type": "code",
   "execution_count": null,
   "id": "8a2a3896",
   "metadata": {},
   "outputs": [],
   "source": []
  },
  {
   "cell_type": "markdown",
   "id": "1573fe65",
   "metadata": {},
   "source": [
    "### Extract themes\n",
    "Write a theme for each topic (atleast a sentence each)."
   ]
  },
  {
   "cell_type": "markdown",
   "id": "9737d8df",
   "metadata": {},
   "source": [
    "[Your Answer]"
   ]
  },
  {
   "cell_type": "markdown",
   "id": "21cf24c6",
   "metadata": {},
   "source": [
    "[Your Answer]"
   ]
  },
  {
   "cell_type": "markdown",
   "id": "75e191f4",
   "metadata": {},
   "source": [
    "[Your Answer]"
   ]
  },
  {
   "cell_type": "markdown",
   "id": "94ab7df0",
   "metadata": {},
   "source": [
    "### Add Topid ID to output file\n",
    "Add the top two topics for each smart city to the data structure."
   ]
  },
  {
   "cell_type": "code",
   "execution_count": null,
   "id": "3e937841",
   "metadata": {},
   "outputs": [],
   "source": []
  },
  {
   "cell_type": "code",
   "execution_count": null,
   "id": "8e568652",
   "metadata": {},
   "outputs": [],
   "source": []
  },
  {
   "cell_type": "markdown",
   "id": "39f9c240",
   "metadata": {},
   "source": [
    "## Gathering Applicant Summaries and Keywords\n",
    "\n",
    "For each smart city applicant, gather a summary and keywords that are important to that document. You can use gensim to do this. Here are examples of functions that you could use.\n",
    "\n",
    "```python\n",
    "\n",
    "from gensim.summarization import summarize\n",
    "\n",
    "def summary(text, ratio=0.2, word_count=250, split=False):\n",
    "    return summarize(text, ratio= ratio, word_count=word_count, split=split)\n",
    "    \n",
    "from gensim.summarization import keywords\n",
    "\n",
    "def keys(text, ratio=0.01):\n",
    "    return keywords(text, ratio=ratio)\n",
    "```"
   ]
  },
  {
   "cell_type": "code",
   "execution_count": null,
   "id": "a86cbe26",
   "metadata": {},
   "outputs": [],
   "source": []
  },
  {
   "cell_type": "code",
   "execution_count": null,
   "id": "0b545ac4",
   "metadata": {},
   "outputs": [],
   "source": []
  },
  {
   "cell_type": "markdown",
   "id": "2d27ce37",
   "metadata": {},
   "source": [
    "### Add Summaries and Keywords\n",
    "Add summary and keywords to output file."
   ]
  },
  {
   "cell_type": "code",
   "execution_count": null,
   "id": "c09357ff",
   "metadata": {},
   "outputs": [],
   "source": []
  },
  {
   "cell_type": "markdown",
   "id": "4f9cb2c4",
   "metadata": {},
   "source": [
    "## Write output data\n",
    "\n",
    "The output data should be written as a TSV file.\n",
    "You can use `to_csv` method from Pandas for this if you are using a DataFrame.\n",
    "\n",
    "`Syntax: df.to_csv('file.tsv', sep = '')` \\\n",
    "`df.to_csv('smartcity_eda.tsv', sep='\\t')`"
   ]
  },
  {
   "cell_type": "code",
   "execution_count": null,
   "id": "58827464",
   "metadata": {},
   "outputs": [],
   "source": []
  },
  {
   "cell_type": "markdown",
   "id": "7a18b8ff",
   "metadata": {},
   "source": [
    "# Moving Forward\n",
    "Now that you have explored the dataset, take the important features and functions to create your `project3.py`.\n",
    "Please refer to the project spec for more guidance.\n"
   ]
  },
  {
   "cell_type": "markdown",
   "id": "0a6675ba",
   "metadata": {},
   "source": []
  }
 ],
 "metadata": {
  "kernelspec": {
   "display_name": "Python 3 (ipykernel)",
   "language": "python",
   "name": "python3"
  },
  "language_info": {
   "codemirror_mode": {
    "name": "ipython",
    "version": 3
   },
   "file_extension": ".py",
   "mimetype": "text/x-python",
   "name": "python",
   "nbconvert_exporter": "python",
   "pygments_lexer": "ipython3",
   "version": "3.10.6"
  }
 },
 "nbformat": 4,
 "nbformat_minor": 5
}
